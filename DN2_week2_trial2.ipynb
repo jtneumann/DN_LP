{
  "nbformat": 4,
  "nbformat_minor": 0,
  "metadata": {
    "colab": {
      "name": "DN2_week2_trial2",
      "provenance": [],
      "collapsed_sections": [],
      "toc_visible": true,
      "include_colab_link": true
    },
    "kernelspec": {
      "display_name": "Python 3",
      "name": "python3"
    }
  },
  "cells": [
    {
      "cell_type": "markdown",
      "metadata": {
        "id": "view-in-github",
        "colab_type": "text"
      },
      "source": [
        "<a href=\"https://colab.research.google.com/github/jtneumann/DN_LP/blob/master/DN2_week2_trial2.ipynb\" target=\"_parent\"><img src=\"https://colab.research.google.com/assets/colab-badge.svg\" alt=\"Open In Colab\"/></a>"
      ]
    },
    {
      "cell_type": "markdown",
      "metadata": {
        "colab_type": "text",
        "id": "7Z2jcRKwUHqV"
      },
      "source": [
        "This notebook provides recipes for loading and saving data from external sources."
      ]
    },
    {
      "cell_type": "markdown",
      "metadata": {
        "colab_type": "text",
        "id": "eikfzi8ZT_rW"
      },
      "source": [
        "# Local file system"
      ]
    },
    {
      "cell_type": "markdown",
      "metadata": {
        "colab_type": "text",
        "id": "BaCkyg5CV5jF"
      },
      "source": [
        "## Uploading files from your local file system\n",
        "\n",
        "`files.upload` returns a dictionary of the files which were uploaded.\n",
        "The dictionary is keyed by the file name and values are the data which were uploaded."
      ]
    },
    {
      "cell_type": "code",
      "metadata": {
        "colab_type": "code",
        "id": "vz-jH8T_Uk2c",
        "outputId": "ea7013db-32fe-4cf5-8dc0-f60819bbc865",
        "colab": {
          "resources": {
            "http://localhost:8080/nbextensions/google.colab/files.js": {
              "data": "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",
              "ok": true,
              "headers": [
                [
                  "content-type",
                  "application/javascript"
                ]
              ],
              "status": 200,
              "status_text": ""
            }
          },
          "base_uri": "https://localhost:8080/",
          "height": 244
        }
      },
      "source": [
        "from google.colab import files\n",
        "\n",
        "uploaded = files.upload()\n",
        "\n",
        "for fn in uploaded.keys():\n",
        "  print('User uploaded file \"{name}\" with length {length} bytes'.format(\n",
        "      name=fn, length=len(uploaded[fn])))"
      ],
      "execution_count": 0,
      "outputs": [
        {
          "output_type": "display_data",
          "data": {
            "text/html": [
              "\n",
              "     <input type=\"file\" id=\"files-5bbf7528-a9f4-4da0-bc8c-3d78e2dba507\" name=\"files[]\" multiple disabled />\n",
              "     <output id=\"result-5bbf7528-a9f4-4da0-bc8c-3d78e2dba507\">\n",
              "      Upload widget is only available when the cell has been executed in the\n",
              "      current browser session. Please rerun this cell to enable.\n",
              "      </output>\n",
              "      <script src=\"/nbextensions/google.colab/files.js\"></script> "
            ],
            "text/plain": [
              "<IPython.core.display.HTML object>"
            ]
          },
          "metadata": {
            "tags": []
          }
        },
        {
          "output_type": "stream",
          "text": [
            "Saving 211559-050.pdf to 211559-050.pdf\n",
            "Saving 1900070.pdf to 1900070.pdf\n",
            "Saving pdf1.ini to pdf1.ini\n",
            "Saving pdf2.ini to pdf2.ini\n",
            "User uploaded file \"211559-050.pdf\" with length 3387068 bytes\n",
            "User uploaded file \"1900070.pdf\" with length 136238 bytes\n",
            "User uploaded file \"pdf1.ini\" with length 284 bytes\n",
            "User uploaded file \"pdf2.ini\" with length 247 bytes\n"
          ],
          "name": "stdout"
        }
      ]
    },
    {
      "cell_type": "code",
      "metadata": {
        "id": "79LUYuhcMfm-",
        "colab_type": "code",
        "outputId": "85cc93b6-f411-4036-dd94-579c8f13cc4e",
        "colab": {
          "base_uri": "https://localhost:8080/",
          "height": 581
        }
      },
      "source": [
        "!pip install PyPDF2 pdfplumber\n",
        "import pandas as pd\n",
        "import configparser\n",
        "import PyPDF2, pdfplumber\n",
        "import os"
      ],
      "execution_count": 0,
      "outputs": [
        {
          "output_type": "stream",
          "text": [
            "Collecting PyPDF2\n",
            "\u001b[?25l  Downloading https://files.pythonhosted.org/packages/b4/01/68fcc0d43daf4c6bdbc6b33cc3f77bda531c86b174cac56ef0ffdb96faab/PyPDF2-1.26.0.tar.gz (77kB)\n",
            "\r\u001b[K     |████▎                           | 10kB 17.9MB/s eta 0:00:01\r\u001b[K     |████████▌                       | 20kB 6.4MB/s eta 0:00:01\r\u001b[K     |████████████▊                   | 30kB 7.5MB/s eta 0:00:01\r\u001b[K     |█████████████████               | 40kB 8.3MB/s eta 0:00:01\r\u001b[K     |█████████████████████▏          | 51kB 7.1MB/s eta 0:00:01\r\u001b[K     |█████████████████████████▍      | 61kB 8.2MB/s eta 0:00:01\r\u001b[K     |█████████████████████████████▋  | 71kB 8.4MB/s eta 0:00:01\r\u001b[K     |████████████████████████████████| 81kB 5.3MB/s \n",
            "\u001b[?25hCollecting pdfplumber\n",
            "  Downloading https://files.pythonhosted.org/packages/d1/44/b1fc0e005094147c40a7751c8d94026971247c1f84348e9e37c9200bb6d6/pdfplumber-0.5.21.tar.gz\n",
            "Requirement already satisfied: chardet in /usr/local/lib/python3.6/dist-packages (from pdfplumber) (3.0.4)\n",
            "Collecting pycryptodome\n",
            "\u001b[?25l  Downloading https://files.pythonhosted.org/packages/af/16/da16a22d47bac9bf9db39f3b9af74e8eeed8855c0df96be20b580ef92fff/pycryptodome-3.9.7-cp36-cp36m-manylinux1_x86_64.whl (13.7MB)\n",
            "\u001b[K     |████████████████████████████████| 13.7MB 311kB/s \n",
            "\u001b[?25hCollecting unicodecsv>=0.14.1\n",
            "  Downloading https://files.pythonhosted.org/packages/6f/a4/691ab63b17505a26096608cc309960b5a6bdf39e4ba1a793d5f9b1a53270/unicodecsv-0.14.1.tar.gz\n",
            "Collecting pdfminer.six==20200104\n",
            "\u001b[?25l  Downloading https://files.pythonhosted.org/packages/22/bb/d38a297068723409193296f056c63fcefe6a8a784049b34bbdbf559b5118/pdfminer.six-20200104-py3-none-any.whl (5.6MB)\n",
            "\u001b[K     |████████████████████████████████| 5.6MB 42.8MB/s \n",
            "\u001b[?25hRequirement already satisfied: pillow>=7.0.0 in /usr/local/lib/python3.6/dist-packages (from pdfplumber) (7.0.0)\n",
            "Collecting wand\n",
            "\u001b[?25l  Downloading https://files.pythonhosted.org/packages/96/f7/1d0907b2bb70a2d87795b60a8a195d5ba7aed88baf79c94534bb0d4b103e/Wand-0.6.1-py2.py3-none-any.whl (129kB)\n",
            "\u001b[K     |████████████████████████████████| 133kB 52.5MB/s \n",
            "\u001b[?25hRequirement already satisfied: sortedcontainers in /usr/local/lib/python3.6/dist-packages (from pdfminer.six==20200104->pdfplumber) (2.1.0)\n",
            "Building wheels for collected packages: PyPDF2, pdfplumber, unicodecsv\n",
            "  Building wheel for PyPDF2 (setup.py) ... \u001b[?25l\u001b[?25hdone\n",
            "  Created wheel for PyPDF2: filename=PyPDF2-1.26.0-cp36-none-any.whl size=61086 sha256=9c7b33acb4628e5340e736ea8ccc6472373211c317d435f7473f4ebc9debd926\n",
            "  Stored in directory: /root/.cache/pip/wheels/53/84/19/35bc977c8bf5f0c23a8a011aa958acd4da4bbd7a229315c1b7\n",
            "  Building wheel for pdfplumber (setup.py) ... \u001b[?25l\u001b[?25hdone\n",
            "  Created wheel for pdfplumber: filename=pdfplumber-0.5.21-cp36-none-any.whl size=30947 sha256=d63ac24a3a9bf7955cdfe6f5e01f34604664e783d6de978ec613555e881b5aea\n",
            "  Stored in directory: /root/.cache/pip/wheels/7b/54/10/a1ea81749d001048386ad90ad4d3fa2f3ea0225711faba1adf\n",
            "  Building wheel for unicodecsv (setup.py) ... \u001b[?25l\u001b[?25hdone\n",
            "  Created wheel for unicodecsv: filename=unicodecsv-0.14.1-cp36-none-any.whl size=10768 sha256=7f57baaf5d7b5829b7d21ca5c1edea5708316e8161865e9834fea568b5c4d1f1\n",
            "  Stored in directory: /root/.cache/pip/wheels/a6/09/e9/e800279c98a0a8c94543f3de6c8a562f60e51363ed26e71283\n",
            "Successfully built PyPDF2 pdfplumber unicodecsv\n",
            "Installing collected packages: PyPDF2, pycryptodome, unicodecsv, pdfminer.six, wand, pdfplumber\n",
            "Successfully installed PyPDF2-1.26.0 pdfminer.six-20200104 pdfplumber-0.5.21 pycryptodome-3.9.7 unicodecsv-0.14.1 wand-0.6.1\n"
          ],
          "name": "stdout"
        }
      ]
    },
    {
      "cell_type": "code",
      "metadata": {
        "id": "xqVByLJsBOeT",
        "colab_type": "code",
        "colab": {}
      },
      "source": [
        "def readini(fname):\n",
        "    parser = configparser.ConfigParser()\n",
        "    parser.read(fname)\n",
        "    fieldsToRead = {section: dict(parser.items(section)) for section in parser.sections()}\n",
        "    return fieldsToRead"
      ],
      "execution_count": 0,
      "outputs": []
    },
    {
      "cell_type": "code",
      "metadata": {
        "id": "m8AexHwLHEzw",
        "colab_type": "code",
        "colab": {}
      },
      "source": [
        "pdf1 = readini('pdf1.ini')"
      ],
      "execution_count": 0,
      "outputs": []
    },
    {
      "cell_type": "code",
      "metadata": {
        "id": "Zg2dRdXzo-LL",
        "colab_type": "code",
        "outputId": "42ffadc9-0576-43aa-f0d1-1fcd7440079e",
        "colab": {
          "base_uri": "https://localhost:8080/",
          "height": 34
        }
      },
      "source": [
        "type(pdf1)"
      ],
      "execution_count": 0,
      "outputs": [
        {
          "output_type": "execute_result",
          "data": {
            "text/plain": [
              "dict"
            ]
          },
          "metadata": {
            "tags": []
          },
          "execution_count": 6
        }
      ]
    },
    {
      "cell_type": "code",
      "metadata": {
        "id": "KiUJCXbzpBl7",
        "colab_type": "code",
        "outputId": "1efd158f-6858-4414-b7a8-4495484d997e",
        "colab": {
          "base_uri": "https://localhost:8080/",
          "height": 34
        }
      },
      "source": [
        "pdf1['settings']['dir']"
      ],
      "execution_count": 0,
      "outputs": [
        {
          "output_type": "execute_result",
          "data": {
            "text/plain": [
              "\"'.'\""
            ]
          },
          "metadata": {
            "tags": []
          },
          "execution_count": 7
        }
      ]
    },
    {
      "cell_type": "code",
      "metadata": {
        "id": "BKv1W8u3o0qo",
        "colab_type": "code",
        "colab": {}
      },
      "source": [
        "path = []\n",
        "for sub_dict in pdf1:\n",
        "    for key in sub_dict:\n",
        "        if key == pdf1['settings']['dir']:\n",
        "            path.append.pdf1['settings']['dir'].value()"
      ],
      "execution_count": 0,
      "outputs": []
    },
    {
      "cell_type": "code",
      "metadata": {
        "id": "zrVFkPihpZID",
        "colab_type": "code",
        "outputId": "2c140326-e63f-4a0f-a875-9335f211f5e3",
        "colab": {
          "base_uri": "https://localhost:8080/",
          "height": 164
        }
      },
      "source": [
        "path[0]"
      ],
      "execution_count": 0,
      "outputs": [
        {
          "output_type": "error",
          "ename": "IndexError",
          "evalue": "ignored",
          "traceback": [
            "\u001b[0;31m---------------------------------------------------------------------------\u001b[0m",
            "\u001b[0;31mIndexError\u001b[0m                                Traceback (most recent call last)",
            "\u001b[0;32m<ipython-input-12-3f746008e132>\u001b[0m in \u001b[0;36m<module>\u001b[0;34m()\u001b[0m\n\u001b[0;32m----> 1\u001b[0;31m \u001b[0mpath\u001b[0m\u001b[0;34m[\u001b[0m\u001b[0;36m0\u001b[0m\u001b[0;34m]\u001b[0m\u001b[0;34m\u001b[0m\u001b[0;34m\u001b[0m\u001b[0m\n\u001b[0m",
            "\u001b[0;31mIndexError\u001b[0m: list index out of range"
          ]
        }
      ]
    },
    {
      "cell_type": "code",
      "metadata": {
        "id": "q2aTTSIaHPEX",
        "colab_type": "code",
        "outputId": "0439c6aa-a205-4b8f-e6bf-51c535d1558a",
        "colab": {
          "base_uri": "https://localhost:8080/",
          "height": 255
        }
      },
      "source": [
        "Reading"
      ],
      "execution_count": 0,
      "outputs": [
        {
          "output_type": "execute_result",
          "data": {
            "text/plain": [
              "{'row1': {'amt1|e': 'Amount',\n",
              "  'desc1|e': 'Description',\n",
              "  'pr1|e': 'Price',\n",
              "  'qty1|e': 'Quantity',\n",
              "  'ref1|e': 'Reference'},\n",
              " 'row2': {'amt2|e': 'Amount',\n",
              "  'desc2|e': 'Description',\n",
              "  'pr2|e': 'Price',\n",
              "  'qty2|e': 'Quantity',\n",
              "  'ref2|e': 'Reference'},\n",
              " 'settings': {'deliverydate': 'Date',\n",
              "  'deliverynote': 'ALBARAN',\n",
              "  'dir': \"'.'\",\n",
              "  'type': 'ALBARAN'}}"
            ]
          },
          "metadata": {
            "tags": []
          },
          "execution_count": 61
        }
      ]
    },
    {
      "cell_type": "code",
      "metadata": {
        "id": "pDYkRelvCJJG",
        "colab_type": "code",
        "outputId": "51318e4f-37ce-4406-f459-e1e288818272",
        "colab": {
          "base_uri": "https://localhost:8080/",
          "height": 34
        }
      },
      "source": [
        "type(Reading)"
      ],
      "execution_count": 0,
      "outputs": [
        {
          "output_type": "execute_result",
          "data": {
            "text/plain": [
              "dict"
            ]
          },
          "metadata": {
            "tags": []
          },
          "execution_count": 62
        }
      ]
    },
    {
      "cell_type": "code",
      "metadata": {
        "id": "8PgjoqRACMmL",
        "colab_type": "code",
        "outputId": "c7080764-d2c0-429c-d250-8c4bd16f0f51",
        "colab": {
          "base_uri": "https://localhost:8080/",
          "height": 34
        }
      },
      "source": [
        "Reading.keys()"
      ],
      "execution_count": 0,
      "outputs": [
        {
          "output_type": "execute_result",
          "data": {
            "text/plain": [
              "dict_keys(['settings', 'row1', 'row2'])"
            ]
          },
          "metadata": {
            "tags": []
          },
          "execution_count": 63
        }
      ]
    },
    {
      "cell_type": "code",
      "metadata": {
        "id": "HQiRnZ2qCVP2",
        "colab_type": "code",
        "outputId": "46d6b8e7-9991-4fde-9f37-a84dfbb9bb98",
        "colab": {
          "base_uri": "https://localhost:8080/",
          "height": 54
        }
      },
      "source": [
        "Reading.values()"
      ],
      "execution_count": 0,
      "outputs": [
        {
          "output_type": "execute_result",
          "data": {
            "text/plain": [
              "dict_values([{'dir': \"'.'\", 'type': 'ALBARAN', 'deliverynote': 'ALBARAN', 'deliverydate': 'Date'}, {'ref1|e': 'Reference', 'desc1|e': 'Description', 'qty1|e': 'Quantity', 'pr1|e': 'Price', 'amt1|e': 'Amount'}, {'ref2|e': 'Reference', 'desc2|e': 'Description', 'qty2|e': 'Quantity', 'pr2|e': 'Price', 'amt2|e': 'Amount'}])"
            ]
          },
          "metadata": {
            "tags": []
          },
          "execution_count": 53
        }
      ]
    },
    {
      "cell_type": "code",
      "metadata": {
        "id": "NUHBCgVFDsnm",
        "colab_type": "code",
        "outputId": "7f8f3501-5bff-4f6c-a172-6f215e4d191b",
        "colab": {
          "base_uri": "https://localhost:8080/",
          "height": 34
        }
      },
      "source": [
        "Reading['row1']['ref1|e']"
      ],
      "execution_count": 0,
      "outputs": [
        {
          "output_type": "execute_result",
          "data": {
            "text/plain": [
              "'Reference'"
            ]
          },
          "metadata": {
            "tags": []
          },
          "execution_count": 64
        }
      ]
    },
    {
      "cell_type": "code",
      "metadata": {
        "id": "NsnM8Z16MeFI",
        "colab_type": "code",
        "colab": {}
      },
      "source": [
        "with pdfplumber.open('211559-050.pdf') as pdf:\n",
        "    page = pdf.pages[0]\n",
        "    text = page.extract_text()\n",
        "    table = page.extract_tables()\n",
        "    words = page.extract_words()"
      ],
      "execution_count": 0,
      "outputs": []
    },
    {
      "cell_type": "markdown",
      "metadata": {
        "id": "h-X8IAhyUtzd",
        "colab_type": "text"
      },
      "source": [
        "use plumber to extract_text for date and ALBARAN/TALLER info\n",
        "then pypdf2 getFormTextFields() for dictionary of all remaining info needed."
      ]
    },
    {
      "cell_type": "code",
      "metadata": {
        "id": "pjEhQUJhNNCX",
        "colab_type": "code",
        "outputId": "89d004ae-0bd6-4277-854a-dc28690af0cd",
        "colab": {
          "base_uri": "https://localhost:8080/",
          "height": 357
        }
      },
      "source": [
        "print(text)"
      ],
      "execution_count": 0,
      "outputs": [
        {
          "output_type": "stream",
          "text": [
            "TALLER DELIVERY  NOTE\n",
            "00211559_050\n",
            "Tudela\n",
            "Transportista El transportista\n",
            "forwarder:\n",
            "Matrícula\n",
            "Nº Bultos Recibí\n",
            "N. Boxes Signature:\n",
            "Fecha / Date 16/08/2018\n",
            "Cliente / Customer PHARMADEAL, S.A. Cod. Proveedor / Supplier  BRUNO,S.A.\n",
            "No.\n",
            "Dirección / AddressCTRA. MANZANA  Dirección / Address C.FUERTE,\n",
            "RICO, S/N3350   S/N3350\n",
            "PERROALTA PERROALTA\n",
            "NIEVARRA  ES NIEVARRA ES\n",
            "ORDER NO REFERENCE QUANTITY CONCEPT DESCRIPTION\n",
            "El responsable de la entrega del residuo de envase o envase usado para su correcta gestión ambiental \n",
            "será el poseedor final\n",
            "RECIBÍ CONFORME\n",
            "1 de1\n"
          ],
          "name": "stdout"
        }
      ]
    },
    {
      "cell_type": "code",
      "metadata": {
        "id": "CTsjw45iNeJu",
        "colab_type": "code",
        "colab": {}
      },
      "source": [
        "obj = PyPDF2.PdfFileReader('1900070.pdf')"
      ],
      "execution_count": 0,
      "outputs": []
    },
    {
      "cell_type": "code",
      "metadata": {
        "id": "qQbUVvLuN-SS",
        "colab_type": "code",
        "outputId": "43de2417-e9d0-4536-e12f-52b1e59e551d",
        "colab": {
          "base_uri": "https://localhost:8080/",
          "height": 54
        }
      },
      "source": [
        "fields = obj.getFields()\n",
        "print(fields)"
      ],
      "execution_count": 0,
      "outputs": [
        {
          "output_type": "stream",
          "text": [
            "{'Text1': {'/FT': '/Tx', '/T': 'Text1', '/Ff': 0, '/AA': {}}, 'Ref1': {'/FT': '/Tx', '/T': 'Ref1', '/Ff': 0, '/V': '0001', '/AA': {}}, 'Ref2': {'/FT': '/Tx', '/T': 'Ref2', '/Ff': 0, '/V': '0002', '/AA': {}}, 'Desc1': {'/FT': '/Tx', '/T': 'Desc1', '/Ff': 0, '/V': 'This is a test', '/AA': {}}, 'Desc2': {'/FT': '/Tx', '/T': 'Desc2', '/Ff': 0, '/V': 'This is another test', '/AA': {}}, 'EUR_TOT': {'/FT': '/Tx', '/T': 'EUR_TOT', '/Ff': 0, '/AA': {}}, '%IVA': {'/FT': '/Tx', '/T': '%IVA', '/Ff': 0, '/AA': {}}, 'EUR_IVA': {'/FT': '/Tx', '/T': 'EUR_IVA', '/Ff': 0, '/AA': {}}, 'IMP_TOT': {'/FT': '/Tx', '/T': 'IMP_TOT', '/Ff': 0, '/AA': {}}, 'Qty1': {'/FT': '/Tx', '/T': 'Qty1', '/Ff': 0, '/V': '1', '/AA': {}}, 'Qty2': {'/FT': '/Tx', '/T': 'Qty2', '/Ff': 0, '/V': '2', '/AA': {}}, 'Pr1': {'/FT': '/Tx', '/T': 'Pr1', '/Ff': 0, '/V': '10', '/AA': {}}, 'Pr2': {'/FT': '/Tx', '/T': 'Pr2', '/Ff': 0, '/V': '5', '/AA': {}}, 'Amt1': {'/FT': '/Tx', '/T': 'Amt1', '/Ff': 0, '/V': '10', '/AA': {}}, 'Amt2': {'/FT': '/Tx', '/T': 'Amt2', '/Ff': 0, '/V': '10', '/AA': {}}}\n"
          ],
          "name": "stdout"
        }
      ]
    },
    {
      "cell_type": "code",
      "metadata": {
        "id": "3kfxBgi9OQb3",
        "colab_type": "code",
        "outputId": "fd33f0a3-e7bf-4eb6-9e41-c9e481dde513",
        "colab": {
          "base_uri": "https://localhost:8080/",
          "height": 54
        }
      },
      "source": [
        "textFields = obj.getFormTextFields()\n",
        "print(textFields)"
      ],
      "execution_count": 0,
      "outputs": [
        {
          "output_type": "stream",
          "text": [
            "{'Text1': None, 'Ref1': '0001', 'Ref2': '0002', 'Desc1': 'This is a test', 'Desc2': 'This is another test', 'EUR_TOT': None, '%IVA': None, 'EUR_IVA': None, 'IMP_TOT': None, 'Qty1': '1', 'Qty2': '2', 'Pr1': '10', 'Pr2': '5', 'Amt1': '10', 'Amt2': '10'}\n"
          ],
          "name": "stdout"
        }
      ]
    },
    {
      "cell_type": "code",
      "metadata": {
        "id": "bW0XK-GiPBWA",
        "colab_type": "code",
        "outputId": "9d5793c9-d1f0-4b7f-d2c7-1b8625e810a3",
        "colab": {
          "base_uri": "https://localhost:8080/",
          "height": 54
        }
      },
      "source": [
        "metadata = obj.getDocumentInfo()\n",
        "print(metadata)"
      ],
      "execution_count": 0,
      "outputs": [
        {
          "output_type": "stream",
          "text": [
            "{'/CreationDate': \"D:20190114113916+01'00'\", '/ModDate': \"D:20200405193901+02'00'\", '/Producer': 'Amyuni Document Converter version 5.0.1.9', '/Title': 'Sage PDF Document'}\n"
          ],
          "name": "stdout"
        }
      ]
    },
    {
      "cell_type": "markdown",
      "metadata": {
        "id": "TwzWHckBTbHH",
        "colab_type": "text"
      },
      "source": [
        "from pdfplumber methods above"
      ]
    },
    {
      "cell_type": "code",
      "metadata": {
        "id": "X4rC5R70SEra",
        "colab_type": "code",
        "outputId": "9270be02-a1cf-4064-a835-7a02b653b28a",
        "colab": {
          "base_uri": "https://localhost:8080/",
          "height": 54
        }
      },
      "source": [
        "print(table)"
      ],
      "execution_count": 0,
      "outputs": [
        {
          "output_type": "stream",
          "text": [
            "[[['Date', 'ALBARAN Nº:', None, None, None, None, None, None], ['14-01-19', '1900070', None, None, None, None, None, None], ['Cod. Client', 'Vencimiento', None, None, None, None, None, None], ['004301', '', None, None, None, None, None, None], ['Reference', 'Description', None, 'Quantity', None, 'Price', None, 'Amount'], ['', '', None, '', None, '', None, ''], [None, None, 'Base Amount', None, '% IVA', None, 'Amount Total', None], [None, None, '', None, '', None, '', None]]]\n"
          ],
          "name": "stdout"
        }
      ]
    },
    {
      "cell_type": "code",
      "metadata": {
        "id": "EkzbIW3rTp7r",
        "colab_type": "code",
        "outputId": "e3295c59-b230-4222-f97f-2813c7226f34",
        "colab": {
          "base_uri": "https://localhost:8080/",
          "height": 54
        }
      },
      "source": [
        "print(words)"
      ],
      "execution_count": 0,
      "outputs": [
        {
          "output_type": "stream",
          "text": [
            "[{'x0': Decimal('16.920'), 'x1': Decimal('30.723'), 'top': Decimal('13.716'), 'bottom': Decimal('28.913'), 'upright': 1, 'text': 'AAFBPP3NT9F9T9F9mRDCP%%TSTCP0N10T11TCO214444,oouauroeeOaaeL3EOeeA,,.bRE5a0Ie'}, {'x0': Decimal('25.388'), 'x1': Decimal('33.157'), 'top': Decimal('13.716'), 'bottom': Decimal('28.913'), 'upright': 1, 'text': '0338888ttnrmllxxofM1st.IDsR0..VrT'}, {'x0': Decimal('28.341'), 'x1': Decimal('38.767'), 'top': Decimal('13.716'), 'bottom': Decimal('28.913'), 'upright': 1, 'text': 'Laa.cFto5--77YDcAittV502eae77A.tailAlAAia.r055'}, {'x0': Decimal('35.148'), 'x1': Decimal('39.687'), 'top': Decimal('15.088'), 'bottom': Decimal('25.950'), 'upright': 1, 'text': 'oí7'}, {'x0': Decimal('35.754'), 'x1': Decimal('44.523'), 'top': Decimal('13.716'), 'bottom': Decimal('28.913'), 'upright': 1, 'text': 'rdoA:snB55aI'}, {'x0': Decimal('37.289'), 'x1': Decimal('44.894'), 'top': Decimal('13.716'), 'bottom': Decimal('28.913'), 'upright': 1, 'text': 'NiILCvRL'}, {'x0': Decimal('38.739'), 'x1': Decimal('49.039'), 'top': Decimal('15.088'), 'bottom': Decimal('25.950'), 'upright': 1, 'text': '11Ny9pa.Bs@V11a'}, {'x0': Decimal('42.814'), 'x1': Decimal('47.640'), 'top': Decimal('15.088'), 'bottom': Decimal('25.950'), 'upright': 1, 'text': 'T47'}, {'x0': Decimal('44.026'), 'x1': Decimal('49.803'), 'top': Decimal('15.088'), 'bottom': Decimal('25.950'), 'upright': 1, 'text': 'E7R'}, {'x0': Decimal('44.207'), 'x1': Decimal('59.406'), 'top': Decimal('13.716'), 'bottom': Decimal('28.913'), 'upright': 1, 'text': 'cUdASD27-sAfc84A/i33fNAifL18ói.ePaR43go31'}, {'x0': Decimal('54.316'), 'x1': Decimal('59.584'), 'top': Decimal('15.088'), 'bottom': Decimal('25.950'), 'upright': 1, 'text': 'B20n'}, {'x0': Decimal('55.248'), 'x1': Decimal('66.538'), 'top': Decimal('13.716'), 'bottom': Decimal('28.913'), 'upright': 1, 'text': 'Ecyun15Ot'}, {'x0': Decimal('59.552'), 'x1': Decimal('70.555'), 'top': Decimal('13.716'), 'bottom': Decimal('28.913'), 'upright': 1, 'text': 'bALuee7SurR'}, {'x0': Decimal('65.515'), 'x1': Decimal('105.812'), 'top': Decimal('13.716'), 'bottom': Decimal('28.913'), 'upright': 1, 'text': 's9RaEr.7A.LScT3NoC.3ImSOTPAAR'}, {'x0': Decimal('108.066'), 'x1': Decimal('121.240'), 'top': Decimal('15.088'), 'bottom': Decimal('25.950'), 'upright': 1, 'text': 'S/N'}, {'x0': Decimal('31.800'), 'x1': Decimal('59.895'), 'top': Decimal('52.177'), 'bottom': Decimal('63.022'), 'upright': 1, 'text': 'OSCAR'}, {'x0': Decimal('62.176'), 'x1': Decimal('76.233'), 'top': Decimal('52.169'), 'bottom': Decimal('63.030'), 'upright': 1, 'text': 'S.L.'}, {'x0': Decimal('31.800'), 'x1': Decimal('53.337'), 'top': Decimal('68.489'), 'bottom': Decimal('79.350'), 'upright': 1, 'text': 'C.I.F.:'}, {'x0': Decimal('57.705'), 'x1': Decimal('100.780'), 'top': Decimal('68.497'), 'bottom': Decimal('79.342'), 'upright': 1, 'text': 'A-00113344'}, {'x0': Decimal('31.800'), 'x1': Decimal('49.851'), 'top': Decimal('79.289'), 'bottom': Decimal('90.150'), 'upright': 1, 'text': 'POL.'}, {'x0': Decimal('52.060'), 'x1': Decimal('67.907'), 'top': Decimal('79.289'), 'bottom': Decimal('90.150'), 'upright': 1, 'text': 'IND.'}, {'x0': Decimal('70.116'), 'x1': Decimal('79.793'), 'top': Decimal('79.289'), 'bottom': Decimal('90.150'), 'upright': 1, 'text': 'EL'}, {'x0': Decimal('82.001'), 'x1': Decimal('110.156'), 'top': Decimal('79.297'), 'bottom': Decimal('90.142'), 'upright': 1, 'text': 'CHAPO'}, {'x0': Decimal('112.364'), 'x1': Decimal('125.565'), 'top': Decimal('79.289'), 'bottom': Decimal('90.150'), 'upright': 1, 'text': 'S/N'}, {'x0': Decimal('31.800'), 'x1': Decimal('79.633'), 'top': Decimal('88.176'), 'bottom': Decimal('99.037'), 'upright': 1, 'text': 'PERROALTA'}, {'x0': Decimal('31.800'), 'x1': Decimal('49.321'), 'top': Decimal('99.096'), 'bottom': Decimal('109.958'), 'upright': 1, 'text': '3350'}, {'x0': Decimal('51.469'), 'x1': Decimal('91.741'), 'top': Decimal('99.096'), 'bottom': Decimal('109.958'), 'upright': 1, 'text': 'NIEVARRA'}, {'x0': Decimal('31.800'), 'x1': Decimal('45.808'), 'top': Decimal('109.896'), 'bottom': Decimal('120.758'), 'upright': 1, 'text': 'TF.:'}, {'x0': Decimal('47.997'), 'x1': Decimal('90.043'), 'top': Decimal('109.896'), 'bottom': Decimal('120.758'), 'upright': 1, 'text': '911-750217'}, {'x0': Decimal('92.232'), 'x1': Decimal('94.428'), 'top': Decimal('109.896'), 'bottom': Decimal('120.758'), 'upright': 1, 'text': '/'}, {'x0': Decimal('96.617'), 'x1': Decimal('138.664'), 'top': Decimal('109.896'), 'bottom': Decimal('120.758'), 'upright': 1, 'text': '911-751484'}, {'x0': Decimal('31.800'), 'x1': Decimal('95.443'), 'top': Decimal('120.816'), 'bottom': Decimal('131.678'), 'upright': 1, 'text': 'oscar@oscar.com'}, {'x0': Decimal('45.240'), 'x1': Decimal('61.892'), 'top': Decimal('150.098'), 'bottom': Decimal('160.943'), 'upright': 1, 'text': 'Date'}, {'x0': Decimal('111.960'), 'x1': Decimal('148.836'), 'top': Decimal('150.089'), 'bottom': Decimal('160.950'), 'upright': 1, 'text': 'ALBARAN'}, {'x0': Decimal('150.998'), 'x1': Decimal('161.781'), 'top': Decimal('150.089'), 'bottom': Decimal('160.950'), 'upright': 1, 'text': 'Nº:'}, {'x0': Decimal('299.040'), 'x1': Decimal('355.666'), 'top': Decimal('152.857'), 'bottom': Decimal('163.702'), 'upright': 1, 'text': 'PHARMADEAL,'}, {'x0': Decimal('357.864'), 'x1': Decimal('372.795'), 'top': Decimal('152.857'), 'bottom': Decimal('163.702'), 'upright': 1, 'text': 'S.A.'}, {'x0': Decimal('45.240'), 'x1': Decimal('76.627'), 'top': Decimal('163.649'), 'bottom': Decimal('174.510'), 'upright': 1, 'text': '14-01-19'}, {'x0': Decimal('117.360'), 'x1': Decimal('147.904'), 'top': Decimal('163.649'), 'bottom': Decimal('174.510'), 'upright': 1, 'text': '1900070'}, {'x0': Decimal('299.040'), 'x1': Decimal('322.740'), 'top': Decimal('163.641'), 'bottom': Decimal('174.502'), 'upright': 1, 'text': 'CTRA.'}, {'x0': Decimal('324.940'), 'x1': Decimal('363.561'), 'top': Decimal('163.641'), 'bottom': Decimal('174.502'), 'upright': 1, 'text': 'MANZANA'}, {'x0': Decimal('365.760'), 'x1': Decimal('385.509'), 'top': Decimal('163.649'), 'bottom': Decimal('174.494'), 'upright': 1, 'text': 'RICO'}, {'x0': Decimal('299.040'), 'x1': Decimal('313.085'), 'top': Decimal('174.561'), 'bottom': Decimal('185.422'), 'upright': 1, 'text': 'KM.'}, {'x0': Decimal('315.286'), 'x1': Decimal('369.858'), 'top': Decimal('174.561'), 'bottom': Decimal('185.422'), 'upright': 1, 'text': '2PERROALTA'}, {'x0': Decimal('45.240'), 'x1': Decimal('61.874'), 'top': Decimal('188.128'), 'bottom': Decimal('198.989'), 'upright': 1, 'text': 'Cod.'}, {'x0': Decimal('64.138'), 'x1': Decimal('84.247'), 'top': Decimal('188.128'), 'bottom': Decimal('198.989'), 'upright': 1, 'text': 'Client'}, {'x0': Decimal('111.960'), 'x1': Decimal('155.576'), 'top': Decimal('188.128'), 'bottom': Decimal('198.989'), 'upright': 1, 'text': 'Vencimiento'}, {'x0': Decimal('299.040'), 'x1': Decimal('316.568'), 'top': Decimal('188.128'), 'bottom': Decimal('198.989'), 'upright': 1, 'text': '3350'}, {'x0': Decimal('339.122'), 'x1': Decimal('379.290'), 'top': Decimal('188.127'), 'bottom': Decimal('198.988'), 'upright': 1, 'text': 'NIEVARRA'}, {'x0': Decimal('45.240'), 'x1': Decimal('71.465'), 'top': Decimal('209.848'), 'bottom': Decimal('220.710'), 'upright': 1, 'text': '004301'}, {'x0': Decimal('299.040'), 'x1': Decimal('331.235'), 'top': Decimal('209.848'), 'bottom': Decimal('220.710'), 'upright': 1, 'text': 'CIF/NIF.:'}, {'x0': Decimal('352.442'), 'x1': Decimal('396.643'), 'top': Decimal('209.855'), 'bottom': Decimal('220.701'), 'upright': 1, 'text': 'X-00001122'}, {'x0': Decimal('31.800'), 'x1': Decimal('68.165'), 'top': Decimal('234.448'), 'bottom': Decimal('245.310'), 'upright': 1, 'text': 'Reference'}, {'x0': Decimal('111.962'), 'x1': Decimal('151.542'), 'top': Decimal('234.456'), 'bottom': Decimal('245.302'), 'upright': 1, 'text': 'Description'}, {'x0': Decimal('355.799'), 'x1': Decimal('385.108'), 'top': Decimal('234.456'), 'bottom': Decimal('245.302'), 'upright': 1, 'text': 'Quantity'}, {'x0': Decimal('442.321'), 'x1': Decimal('460.314'), 'top': Decimal('234.448'), 'bottom': Decimal('245.310'), 'upright': 1, 'text': 'Price'}, {'x0': Decimal('510.000'), 'x1': Decimal('537.356'), 'top': Decimal('234.456'), 'bottom': Decimal('245.302'), 'upright': 1, 'text': 'Amount'}, {'x0': Decimal('16.920'), 'x1': Decimal('30.270'), 'top': Decimal('264.346'), 'bottom': Decimal('273.908'), 'upright': 1, 'text': '21,0'}, {'x0': Decimal('284.519'), 'x1': Decimal('302.582'), 'top': Decimal('628.767'), 'bottom': Decimal('639.629'), 'upright': 1, 'text': 'Base'}, {'x0': Decimal('304.765'), 'x1': Decimal('332.086'), 'top': Decimal('628.775'), 'bottom': Decimal('639.621'), 'upright': 1, 'text': 'Amount'}, {'x0': Decimal('372.120'), 'x1': Decimal('379.141'), 'top': Decimal('628.768'), 'bottom': Decimal('639.630'), 'upright': 1, 'text': '%'}, {'x0': Decimal('425.280'), 'x1': Decimal('438.107'), 'top': Decimal('628.768'), 'bottom': Decimal('639.630'), 'upright': 1, 'text': 'IVA'}, {'x0': Decimal('490.201'), 'x1': Decimal('517.425'), 'top': Decimal('628.775'), 'bottom': Decimal('639.621'), 'upright': 1, 'text': 'Amount'}, {'x0': Decimal('519.705'), 'x1': Decimal('537.267'), 'top': Decimal('628.767'), 'bottom': Decimal('639.629'), 'upright': 1, 'text': 'Total'}, {'x0': Decimal('205.560'), 'x1': Decimal('222.191'), 'top': Decimal('655.889'), 'bottom': Decimal('666.750'), 'upright': 1, 'text': 'Euro'}]\n"
          ],
          "name": "stdout"
        }
      ]
    },
    {
      "cell_type": "code",
      "metadata": {
        "id": "s5RR0EsBYgVq",
        "colab_type": "code",
        "colab": {}
      },
      "source": [
        "def getPdfs(*dict: dict) -> list:\n",
        "    path = [val for settings in dict for val in settings]\n",
        "    allPdfs = [file for root, dirs, files in os.walk(path) for file in files if file.endswith('.pdf')]\n",
        "    return allPdfs"
      ],
      "execution_count": 0,
      "outputs": []
    },
    {
      "cell_type": "code",
      "metadata": {
        "id": "2YfbqYIZYihc",
        "colab_type": "code",
        "outputId": "5d60e28e-781a-4a65-a540-01ca46305716",
        "colab": {
          "base_uri": "https://localhost:8080/",
          "height": 307
        }
      },
      "source": [
        "pdfs = getPdfs('pdf1 (3)','pdf2 (2)')"
      ],
      "execution_count": 0,
      "outputs": [
        {
          "output_type": "error",
          "ename": "TypeError",
          "evalue": "ignored",
          "traceback": [
            "\u001b[0;31m---------------------------------------------------------------------------\u001b[0m",
            "\u001b[0;31mTypeError\u001b[0m                                 Traceback (most recent call last)",
            "\u001b[0;32m<ipython-input-105-1c1089abb5f3>\u001b[0m in \u001b[0;36m<module>\u001b[0;34m()\u001b[0m\n\u001b[0;32m----> 1\u001b[0;31m \u001b[0mpdfs\u001b[0m \u001b[0;34m=\u001b[0m \u001b[0mgetPdfs\u001b[0m\u001b[0;34m(\u001b[0m\u001b[0;34m'pdf1 (3)'\u001b[0m\u001b[0;34m,\u001b[0m\u001b[0;34m'pdf2 (2)'\u001b[0m\u001b[0;34m)\u001b[0m\u001b[0;34m\u001b[0m\u001b[0;34m\u001b[0m\u001b[0m\n\u001b[0m",
            "\u001b[0;32m<ipython-input-102-1e604bfee6e3>\u001b[0m in \u001b[0;36mgetPdfs\u001b[0;34m(*dict)\u001b[0m\n\u001b[1;32m      1\u001b[0m \u001b[0;32mdef\u001b[0m \u001b[0mgetPdfs\u001b[0m\u001b[0;34m(\u001b[0m\u001b[0;34m*\u001b[0m\u001b[0mdict\u001b[0m\u001b[0;34m:\u001b[0m \u001b[0mdict\u001b[0m\u001b[0;34m)\u001b[0m \u001b[0;34m->\u001b[0m \u001b[0mlist\u001b[0m\u001b[0;34m:\u001b[0m\u001b[0;34m\u001b[0m\u001b[0;34m\u001b[0m\u001b[0m\n\u001b[1;32m      2\u001b[0m     \u001b[0mpath\u001b[0m \u001b[0;34m=\u001b[0m \u001b[0;34m[\u001b[0m\u001b[0mval\u001b[0m \u001b[0;32mfor\u001b[0m \u001b[0msettings\u001b[0m \u001b[0;32min\u001b[0m \u001b[0mdict\u001b[0m \u001b[0;32mfor\u001b[0m \u001b[0mval\u001b[0m \u001b[0;32min\u001b[0m \u001b[0msettings\u001b[0m\u001b[0;34m]\u001b[0m\u001b[0;34m\u001b[0m\u001b[0;34m\u001b[0m\u001b[0m\n\u001b[0;32m----> 3\u001b[0;31m     \u001b[0mallPdfs\u001b[0m \u001b[0;34m=\u001b[0m \u001b[0;34m[\u001b[0m\u001b[0mfile\u001b[0m \u001b[0;32mfor\u001b[0m \u001b[0mroot\u001b[0m\u001b[0;34m,\u001b[0m \u001b[0mdirs\u001b[0m\u001b[0;34m,\u001b[0m \u001b[0mfiles\u001b[0m \u001b[0;32min\u001b[0m \u001b[0mos\u001b[0m\u001b[0;34m.\u001b[0m\u001b[0mwalk\u001b[0m\u001b[0;34m(\u001b[0m\u001b[0mpath\u001b[0m\u001b[0;34m)\u001b[0m \u001b[0;32mfor\u001b[0m \u001b[0mfile\u001b[0m \u001b[0;32min\u001b[0m \u001b[0mfiles\u001b[0m \u001b[0;32mif\u001b[0m \u001b[0mfile\u001b[0m\u001b[0;34m.\u001b[0m\u001b[0mendswith\u001b[0m\u001b[0;34m(\u001b[0m\u001b[0;34m'.pdf'\u001b[0m\u001b[0;34m)\u001b[0m\u001b[0;34m]\u001b[0m\u001b[0;34m\u001b[0m\u001b[0;34m\u001b[0m\u001b[0m\n\u001b[0m\u001b[1;32m      4\u001b[0m     \u001b[0;32mreturn\u001b[0m \u001b[0mallPdfs\u001b[0m\u001b[0;34m\u001b[0m\u001b[0;34m\u001b[0m\u001b[0m\n",
            "\u001b[0;32m<ipython-input-102-1e604bfee6e3>\u001b[0m in \u001b[0;36m<listcomp>\u001b[0;34m(.0)\u001b[0m\n\u001b[1;32m      1\u001b[0m \u001b[0;32mdef\u001b[0m \u001b[0mgetPdfs\u001b[0m\u001b[0;34m(\u001b[0m\u001b[0;34m*\u001b[0m\u001b[0mdict\u001b[0m\u001b[0;34m:\u001b[0m \u001b[0mdict\u001b[0m\u001b[0;34m)\u001b[0m \u001b[0;34m->\u001b[0m \u001b[0mlist\u001b[0m\u001b[0;34m:\u001b[0m\u001b[0;34m\u001b[0m\u001b[0;34m\u001b[0m\u001b[0m\n\u001b[1;32m      2\u001b[0m     \u001b[0mpath\u001b[0m \u001b[0;34m=\u001b[0m \u001b[0;34m[\u001b[0m\u001b[0mval\u001b[0m \u001b[0;32mfor\u001b[0m \u001b[0msettings\u001b[0m \u001b[0;32min\u001b[0m \u001b[0mdict\u001b[0m \u001b[0;32mfor\u001b[0m \u001b[0mval\u001b[0m \u001b[0;32min\u001b[0m \u001b[0msettings\u001b[0m\u001b[0;34m]\u001b[0m\u001b[0;34m\u001b[0m\u001b[0;34m\u001b[0m\u001b[0m\n\u001b[0;32m----> 3\u001b[0;31m     \u001b[0mallPdfs\u001b[0m \u001b[0;34m=\u001b[0m \u001b[0;34m[\u001b[0m\u001b[0mfile\u001b[0m \u001b[0;32mfor\u001b[0m \u001b[0mroot\u001b[0m\u001b[0;34m,\u001b[0m \u001b[0mdirs\u001b[0m\u001b[0;34m,\u001b[0m \u001b[0mfiles\u001b[0m \u001b[0;32min\u001b[0m \u001b[0mos\u001b[0m\u001b[0;34m.\u001b[0m\u001b[0mwalk\u001b[0m\u001b[0;34m(\u001b[0m\u001b[0mpath\u001b[0m\u001b[0;34m)\u001b[0m \u001b[0;32mfor\u001b[0m \u001b[0mfile\u001b[0m \u001b[0;32min\u001b[0m \u001b[0mfiles\u001b[0m \u001b[0;32mif\u001b[0m \u001b[0mfile\u001b[0m\u001b[0;34m.\u001b[0m\u001b[0mendswith\u001b[0m\u001b[0;34m(\u001b[0m\u001b[0;34m'.pdf'\u001b[0m\u001b[0;34m)\u001b[0m\u001b[0;34m]\u001b[0m\u001b[0;34m\u001b[0m\u001b[0;34m\u001b[0m\u001b[0m\n\u001b[0m\u001b[1;32m      4\u001b[0m     \u001b[0;32mreturn\u001b[0m \u001b[0mallPdfs\u001b[0m\u001b[0;34m\u001b[0m\u001b[0;34m\u001b[0m\u001b[0m\n",
            "\u001b[0;32m/usr/lib/python3.6/os.py\u001b[0m in \u001b[0;36mwalk\u001b[0;34m(top, topdown, onerror, followlinks)\u001b[0m\n\u001b[1;32m    333\u001b[0m \u001b[0;34m\u001b[0m\u001b[0m\n\u001b[1;32m    334\u001b[0m     \"\"\"\n\u001b[0;32m--> 335\u001b[0;31m     \u001b[0mtop\u001b[0m \u001b[0;34m=\u001b[0m \u001b[0mfspath\u001b[0m\u001b[0;34m(\u001b[0m\u001b[0mtop\u001b[0m\u001b[0;34m)\u001b[0m\u001b[0;34m\u001b[0m\u001b[0;34m\u001b[0m\u001b[0m\n\u001b[0m\u001b[1;32m    336\u001b[0m     \u001b[0mdirs\u001b[0m \u001b[0;34m=\u001b[0m \u001b[0;34m[\u001b[0m\u001b[0;34m]\u001b[0m\u001b[0;34m\u001b[0m\u001b[0;34m\u001b[0m\u001b[0m\n\u001b[1;32m    337\u001b[0m     \u001b[0mnondirs\u001b[0m \u001b[0;34m=\u001b[0m \u001b[0;34m[\u001b[0m\u001b[0;34m]\u001b[0m\u001b[0;34m\u001b[0m\u001b[0;34m\u001b[0m\u001b[0m\n",
            "\u001b[0;31mTypeError\u001b[0m: expected str, bytes or os.PathLike object, not list"
          ]
        }
      ]
    },
    {
      "cell_type": "code",
      "metadata": {
        "id": "7A7-Dhy8cSIh",
        "colab_type": "code",
        "colab": {}
      },
      "source": [
        "def readini(fname) -> list:\n",
        "    # Instructions to read an ini file go here and/or below ...\n",
        "    parser = configparser.ConfigParser()\n",
        "    parser.read(fname)\n",
        "    fieldsToRead = {section: dict(parser.items(section)) for section in parser.sections()}\n",
        "    settings, row1, row2 = list(fieldsToRead)\n",
        "    return settings, row1, row2"
      ],
      "execution_count": 0,
      "outputs": []
    },
    {
      "cell_type": "code",
      "metadata": {
        "id": "ygknkdFVcT7m",
        "colab_type": "code",
        "colab": {}
      },
      "source": [
        "test1 = readini('pdf1 (3).ini')"
      ],
      "execution_count": 0,
      "outputs": []
    },
    {
      "cell_type": "code",
      "metadata": {
        "id": "_9XbK2izcpVK",
        "colab_type": "code",
        "outputId": "b6ce2f7d-2370-4c72-ee56-ea1c0f157c8b",
        "colab": {
          "base_uri": "https://localhost:8080/",
          "height": 164
        }
      },
      "source": [
        "t = [(i, j) for j in test1.index(1)]"
      ],
      "execution_count": 0,
      "outputs": [
        {
          "output_type": "error",
          "ename": "ValueError",
          "evalue": "ignored",
          "traceback": [
            "\u001b[0;31m---------------------------------------------------------------------------\u001b[0m",
            "\u001b[0;31mValueError\u001b[0m                                Traceback (most recent call last)",
            "\u001b[0;32m<ipython-input-95-7cf1f6799048>\u001b[0m in \u001b[0;36m<module>\u001b[0;34m()\u001b[0m\n\u001b[0;32m----> 1\u001b[0;31m \u001b[0mt\u001b[0m \u001b[0;34m=\u001b[0m \u001b[0;34m[\u001b[0m\u001b[0;34m(\u001b[0m\u001b[0mi\u001b[0m\u001b[0;34m,\u001b[0m \u001b[0mj\u001b[0m\u001b[0;34m)\u001b[0m \u001b[0;32mfor\u001b[0m \u001b[0mj\u001b[0m \u001b[0;32min\u001b[0m \u001b[0mtest1\u001b[0m\u001b[0;34m.\u001b[0m\u001b[0mindex\u001b[0m\u001b[0;34m(\u001b[0m\u001b[0;36m1\u001b[0m\u001b[0;34m)\u001b[0m\u001b[0;34m]\u001b[0m\u001b[0;34m\u001b[0m\u001b[0;34m\u001b[0m\u001b[0m\n\u001b[0m",
            "\u001b[0;31mValueError\u001b[0m: tuple.index(x): x not in tuple"
          ]
        }
      ]
    },
    {
      "cell_type": "code",
      "metadata": {
        "id": "vDv0PKWYdNRH",
        "colab_type": "code",
        "outputId": "012398b6-a352-4448-f429-14c09c7b4d87",
        "colab": {
          "base_uri": "https://localhost:8080/",
          "height": 215
        }
      },
      "source": [
        "t = [ test1[i] for i in test1]"
      ],
      "execution_count": 0,
      "outputs": [
        {
          "output_type": "error",
          "ename": "TypeError",
          "evalue": "ignored",
          "traceback": [
            "\u001b[0;31m---------------------------------------------------------------------------\u001b[0m",
            "\u001b[0;31mTypeError\u001b[0m                                 Traceback (most recent call last)",
            "\u001b[0;32m<ipython-input-108-d1e7732b1c6d>\u001b[0m in \u001b[0;36m<module>\u001b[0;34m()\u001b[0m\n\u001b[0;32m----> 1\u001b[0;31m \u001b[0mt\u001b[0m \u001b[0;34m=\u001b[0m \u001b[0;34m[\u001b[0m \u001b[0mtest1\u001b[0m\u001b[0;34m[\u001b[0m\u001b[0mi\u001b[0m\u001b[0;34m]\u001b[0m \u001b[0;32mfor\u001b[0m \u001b[0mi\u001b[0m \u001b[0;32min\u001b[0m \u001b[0mtest1\u001b[0m\u001b[0;34m]\u001b[0m\u001b[0;34m\u001b[0m\u001b[0;34m\u001b[0m\u001b[0m\n\u001b[0m",
            "\u001b[0;32m<ipython-input-108-d1e7732b1c6d>\u001b[0m in \u001b[0;36m<listcomp>\u001b[0;34m(.0)\u001b[0m\n\u001b[0;32m----> 1\u001b[0;31m \u001b[0mt\u001b[0m \u001b[0;34m=\u001b[0m \u001b[0;34m[\u001b[0m \u001b[0mtest1\u001b[0m\u001b[0;34m[\u001b[0m\u001b[0mi\u001b[0m\u001b[0;34m]\u001b[0m \u001b[0;32mfor\u001b[0m \u001b[0mi\u001b[0m \u001b[0;32min\u001b[0m \u001b[0mtest1\u001b[0m\u001b[0;34m]\u001b[0m\u001b[0;34m\u001b[0m\u001b[0;34m\u001b[0m\u001b[0m\n\u001b[0m",
            "\u001b[0;31mTypeError\u001b[0m: tuple indices must be integers or slices, not str"
          ]
        }
      ]
    },
    {
      "cell_type": "code",
      "metadata": {
        "id": "5e5F9vZN3KbP",
        "colab_type": "code",
        "colab": {}
      },
      "source": [
        "def getPdfs(*dict: dict) -> list:\n",
        "    path = [dict['settings']['dir'] for k, v in dict.items() for key in v if dict[key] == dict['settings']['dir']]\n",
        "    allPdfs = [file for root, dirs, files in os.walk(path) for file in files if file.endswith('.pdf')]\n",
        "    return allPdfs"
      ],
      "execution_count": 0,
      "outputs": []
    },
    {
      "cell_type": "code",
      "metadata": {
        "id": "bBT-mlsQ4AEq",
        "colab_type": "code",
        "outputId": "7195bcb1-1d18-4355-f214-2925e8daeafe",
        "colab": {
          "base_uri": "https://localhost:8080/",
          "height": 266
        }
      },
      "source": [
        "t = getPdfs('pdf1.ini')"
      ],
      "execution_count": 0,
      "outputs": [
        {
          "output_type": "error",
          "ename": "AttributeError",
          "evalue": "ignored",
          "traceback": [
            "\u001b[0;31m---------------------------------------------------------------------------\u001b[0m",
            "\u001b[0;31mAttributeError\u001b[0m                            Traceback (most recent call last)",
            "\u001b[0;32m<ipython-input-5-f4b08a9741b4>\u001b[0m in \u001b[0;36m<module>\u001b[0;34m()\u001b[0m\n\u001b[0;32m----> 1\u001b[0;31m \u001b[0mt\u001b[0m \u001b[0;34m=\u001b[0m \u001b[0mgetPdfs\u001b[0m\u001b[0;34m(\u001b[0m\u001b[0;34m'pdf1.ini'\u001b[0m\u001b[0;34m)\u001b[0m\u001b[0;34m\u001b[0m\u001b[0;34m\u001b[0m\u001b[0m\n\u001b[0m",
            "\u001b[0;32m<ipython-input-4-9b1ecfc180bc>\u001b[0m in \u001b[0;36mgetPdfs\u001b[0;34m(*dict)\u001b[0m\n\u001b[1;32m      1\u001b[0m \u001b[0;32mdef\u001b[0m \u001b[0mgetPdfs\u001b[0m\u001b[0;34m(\u001b[0m\u001b[0;34m*\u001b[0m\u001b[0mdict\u001b[0m\u001b[0;34m:\u001b[0m \u001b[0mdict\u001b[0m\u001b[0;34m)\u001b[0m \u001b[0;34m->\u001b[0m \u001b[0mlist\u001b[0m\u001b[0;34m:\u001b[0m\u001b[0;34m\u001b[0m\u001b[0;34m\u001b[0m\u001b[0m\n\u001b[0;32m----> 2\u001b[0;31m     \u001b[0mpath\u001b[0m \u001b[0;34m=\u001b[0m \u001b[0;34m[\u001b[0m\u001b[0mdict\u001b[0m\u001b[0;34m[\u001b[0m\u001b[0;34m'settings'\u001b[0m\u001b[0;34m]\u001b[0m\u001b[0;34m[\u001b[0m\u001b[0;34m'dir'\u001b[0m\u001b[0;34m]\u001b[0m \u001b[0;32mfor\u001b[0m \u001b[0mk\u001b[0m\u001b[0;34m,\u001b[0m \u001b[0mv\u001b[0m \u001b[0;32min\u001b[0m \u001b[0mdict\u001b[0m\u001b[0;34m.\u001b[0m\u001b[0mitems\u001b[0m\u001b[0;34m(\u001b[0m\u001b[0;34m)\u001b[0m \u001b[0;32mfor\u001b[0m \u001b[0mkey\u001b[0m \u001b[0;32min\u001b[0m \u001b[0mv\u001b[0m \u001b[0;32mif\u001b[0m \u001b[0mdict\u001b[0m\u001b[0;34m[\u001b[0m\u001b[0mkey\u001b[0m\u001b[0;34m]\u001b[0m \u001b[0;34m==\u001b[0m \u001b[0mdict\u001b[0m\u001b[0;34m[\u001b[0m\u001b[0;34m'settings'\u001b[0m\u001b[0;34m]\u001b[0m\u001b[0;34m[\u001b[0m\u001b[0;34m'dir'\u001b[0m\u001b[0;34m]\u001b[0m\u001b[0;34m]\u001b[0m\u001b[0;34m\u001b[0m\u001b[0;34m\u001b[0m\u001b[0m\n\u001b[0m\u001b[1;32m      3\u001b[0m     \u001b[0mallPdfs\u001b[0m \u001b[0;34m=\u001b[0m \u001b[0;34m[\u001b[0m\u001b[0mfile\u001b[0m \u001b[0;32mfor\u001b[0m \u001b[0mroot\u001b[0m\u001b[0;34m,\u001b[0m \u001b[0mdirs\u001b[0m\u001b[0;34m,\u001b[0m \u001b[0mfiles\u001b[0m \u001b[0;32min\u001b[0m \u001b[0mos\u001b[0m\u001b[0;34m.\u001b[0m\u001b[0mwalk\u001b[0m\u001b[0;34m(\u001b[0m\u001b[0mpath\u001b[0m\u001b[0;34m)\u001b[0m \u001b[0;32mfor\u001b[0m \u001b[0mfile\u001b[0m \u001b[0;32min\u001b[0m \u001b[0mfiles\u001b[0m \u001b[0;32mif\u001b[0m \u001b[0mfile\u001b[0m\u001b[0;34m.\u001b[0m\u001b[0mendswith\u001b[0m\u001b[0;34m(\u001b[0m\u001b[0;34m'.pdf'\u001b[0m\u001b[0;34m)\u001b[0m\u001b[0;34m]\u001b[0m\u001b[0;34m\u001b[0m\u001b[0;34m\u001b[0m\u001b[0m\n\u001b[1;32m      4\u001b[0m     \u001b[0;32mreturn\u001b[0m \u001b[0mallPdfs\u001b[0m\u001b[0;34m\u001b[0m\u001b[0;34m\u001b[0m\u001b[0m\n",
            "\u001b[0;31mAttributeError\u001b[0m: 'tuple' object has no attribute 'items'"
          ]
        }
      ]
    },
    {
      "cell_type": "markdown",
      "metadata": {
        "id": "Tqo7bk6mA99c",
        "colab_type": "text"
      },
      "source": [
        "Usolved; submitting to see solution to correct mistakes and move to the next part."
      ]
    },
    {
      "cell_type": "code",
      "metadata": {
        "id": "X36PGVwtA_d2",
        "colab_type": "code",
        "colab": {}
      },
      "source": [
        ""
      ],
      "execution_count": 0,
      "outputs": []
    }
  ]
}