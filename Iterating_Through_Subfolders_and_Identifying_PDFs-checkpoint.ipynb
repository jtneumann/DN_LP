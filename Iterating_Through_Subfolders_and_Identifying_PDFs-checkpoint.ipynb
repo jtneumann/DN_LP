{
 "cells": [
  {
   "cell_type": "code",
   "execution_count": 1,
   "metadata": {},
   "outputs": [
    {
     "name": "stdout",
     "output_type": "stream",
     "text": [
      "['1900070.pdf', '211559-050.pdf']\n"
     ]
    }
   ],
   "source": [
    "import os\n",
    "\n",
    "def getPdfs(dirName):\n",
    "    allPdfs = []\n",
    "    for root, dirs, files in os.walk(dirName):\n",
    "        for file in files:\n",
    "            if file.endswith('.pdf'):\n",
    "                allPdfs.append(file)\n",
    "    return allPdfs\n",
    "\n",
    "dirName = '.'\n",
    "pdfs = getPdfs(dirName)\n",
    "print(pdfs)"
   ]
  },
  {
   "cell_type": "code",
   "execution_count": 6,
   "metadata": {},
   "outputs": [
    {
     "name": "stdout",
     "output_type": "stream",
     "text": [
      "['1900070.pdf', '211559-050.pdf']\n"
     ]
    }
   ],
   "source": [
    "import os\n",
    "\n",
    "def getPdfs(dirName):\n",
    "    allPdfs = [file for root, dirs, files in os.walk(dirName) for file in files if file.endswith('.pdf')]\n",
    "    return allPdfs\n",
    "    \n",
    "dirName = '.'\n",
    "pdfs = getPdfs(dirName)\n",
    "print(pdfs)"
   ]
  },
  {
   "cell_type": "code",
   "execution_count": null,
   "metadata": {},
   "outputs": [],
   "source": []
  }
 ],
 "metadata": {
  "kernelspec": {
   "display_name": "Python 3",
   "language": "python",
   "name": "python3"
  },
  "language_info": {
   "codemirror_mode": {
    "name": "ipython",
    "version": 3
   },
   "file_extension": ".py",
   "mimetype": "text/x-python",
   "name": "python",
   "nbconvert_exporter": "python",
   "pygments_lexer": "ipython3",
   "version": "3.7.6"
  }
 },
 "nbformat": 4,
 "nbformat_minor": 4
}
